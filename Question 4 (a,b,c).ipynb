{
  "metadata": {
    "language_info": {
      "codemirror_mode": {
        "name": "python",
        "version": 3
      },
      "file_extension": ".py",
      "mimetype": "text/x-python",
      "name": "python",
      "nbconvert_exporter": "python",
      "pygments_lexer": "ipython3",
      "version": "3.8"
    },
    "kernelspec": {
      "name": "python",
      "display_name": "Python (Pyodide)",
      "language": "python"
    }
  },
  "nbformat_minor": 4,
  "nbformat": 4,
  "cells": [
    {
      "cell_type": "code",
      "source": "import pandas as pd\n\ndf = pd.read_csv(\"crime-statistics-in-uganda-by-district-in-2020.csv\")\n",
      "metadata": {
        "trusted": true
      },
      "execution_count": 1,
      "outputs": []
    },
    {
      "cell_type": "code",
      "source": "columns_to_clean = [\"HOMICIDES\", \"ECONOMIC\", \"SEX REL\", \"CHILD REL\", \"BREAKINGS\", \"THEFTS\", \"ROBBERIES\", \"ASSAULTS\", \"OTHER CRIMES\"]\n\n# Handle missing values\ndf[columns_to_clean] = df[columns_to_clean].fillna(0)  # Replace missing values with 0 or any appropriate value\n\n# Save the cleaned dataset\ndf.to_csv(\"cleaned_crime_data.csv\", index=False)",
      "metadata": {
        "trusted": true
      },
      "execution_count": 2,
      "outputs": []
    },
    {
      "cell_type": "code",
      "source": "import pandas as pd\n\n# Load the cleaned dataset\ndf = pd.read_csv(\"cleaned_crime_data.csv\")\n\n# Compute descriptive statistics\nstatistics = df.describe()\n\n# Print the descriptive statistics\nprint(statistics)\n",
      "metadata": {
        "trusted": true
      },
      "execution_count": 3,
      "outputs": [
        {
          "name": "stdout",
          "text": "         REGIONS/DISTRICTS TOTAL CASES HOMICIDES ECONOMIC SEX REL CHILD REL  \\\ncount                  188         188       188      188     188       188   \nunique                 188         178        78      119     124       116   \ntop     C.I.D Headquarters       1,398        14       29      54        20   \nfreq                     1           2        10        7       5         6   \n\n       BREAKINGS THEFTS ROBBERIES ASSAULTS OTHER CRIMES TERRORISM POL/MEDIA  \\\ncount        188    188       188      188          188        32       188   \nunique       123    161        90      157          176         3        43   \ntop           66    116         7       80          377         -         -   \nfreq           6      3         8        4            4        27        32   \n\n       CORRUPTION NARCOTICS OTHER LAWS  \ncount          43       188        188  \nunique          6        57         63  \ntop             -         -          -  \nfreq           19        14         11  \n",
          "output_type": "stream"
        }
      ]
    },
    {
      "cell_type": "code",
      "source": "",
      "metadata": {
        "trusted": true
      },
      "execution_count": null,
      "outputs": []
    },
    {
      "cell_type": "code",
      "source": "",
      "metadata": {},
      "execution_count": null,
      "outputs": []
    },
    {
      "cell_type": "code",
      "source": "",
      "metadata": {},
      "execution_count": null,
      "outputs": []
    }
  ]
}