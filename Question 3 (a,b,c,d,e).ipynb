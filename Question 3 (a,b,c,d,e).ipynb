{
  "metadata": {
    "language_info": {
      "codemirror_mode": {
        "name": "python",
        "version": 3
      },
      "file_extension": ".py",
      "mimetype": "text/x-python",
      "name": "python",
      "nbconvert_exporter": "python",
      "pygments_lexer": "ipython3",
      "version": "3.8"
    },
    "kernelspec": {
      "name": "python",
      "display_name": "Python (Pyodide)",
      "language": "python"
    }
  },
  "nbformat_minor": 4,
  "nbformat": 4,
  "cells": [
    {
      "cell_type": "code",
      "source": "import pandas as pd\n\ndf = pd.read_csv(\"crime-statistics-in-uganda-by-district-in-2020.csv\")\n",
      "metadata": {
        "trusted": true
      },
      "execution_count": 1,
      "outputs": []
    },
    {
      "cell_type": "code",
      "source": "import numpy as np\n",
      "metadata": {
        "trusted": true
      },
      "execution_count": 2,
      "outputs": []
    },
    {
      "cell_type": "code",
      "source": "df.head(10)\n",
      "metadata": {
        "tags": [],
        "trusted": true
      },
      "execution_count": 3,
      "outputs": [
        {
          "execution_count": 3,
          "output_type": "execute_result",
          "data": {
            "text/plain": "    REGIONS/DISTRICTS TOTAL CASES HOMICIDES ECONOMIC SEX REL CHILD REL  \\\n0  C.I.D Headquarters       1,398         3      723      12         3   \n1               C.I.D       1,398         3      723      12         3   \n2          Jinja Road       1,379        12      197     110        10   \n3       Kira Division       1,341        16      125     117        20   \n4           Kira Road       2,284        16      160      93       122   \n5              Mukono       2,383        22      182     222        28   \n6            Nagalama         991        20       48     124         8   \n7            KMP EAST       8,379        85      711     666       187   \n8         CPS Kampala       1,630         7      472      12         2   \n9               Katwe       2,805        36      161     273       326   \n\n  BREAKINGS THEFTS ROBBERIES ASSAULTS OTHER CRIMES TERRORISM POL/MEDIA  \\\n0         1     92         5       14          377       NaN        44   \n1         1     92         5       14          377         -        44   \n2        75    468        76      122          272       NaN         5   \n3       120    401        99       73          348       NaN        10   \n4       123    677       147      274          606         1        11   \n5       185    798        68      234          583       NaN        18   \n6        66    257        39      151          259       NaN         6   \n7       569  2,601       430      853        2,068         1        50   \n8        41    642        40       81          219       NaN        16   \n9        89    645        87      305          841       NaN         6   \n\n  CORRUPTION NARCOTICS OTHER LAWS  \n0         18        36         69  \n1         18        36         69  \n2        NaN        30          3  \n3          1        10          2  \n4        NaN        51          4  \n5        NaN        27         17  \n6        NaN         9          4  \n7          1       126         30  \n8          1        22         75  \n9        NaN        34          1  ",
            "text/html": "<div>\n<style scoped>\n    .dataframe tbody tr th:only-of-type {\n        vertical-align: middle;\n    }\n\n    .dataframe tbody tr th {\n        vertical-align: top;\n    }\n\n    .dataframe thead th {\n        text-align: right;\n    }\n</style>\n<table border=\"1\" class=\"dataframe\">\n  <thead>\n    <tr style=\"text-align: right;\">\n      <th></th>\n      <th>REGIONS/DISTRICTS</th>\n      <th>TOTAL CASES</th>\n      <th>HOMICIDES</th>\n      <th>ECONOMIC</th>\n      <th>SEX REL</th>\n      <th>CHILD REL</th>\n      <th>BREAKINGS</th>\n      <th>THEFTS</th>\n      <th>ROBBERIES</th>\n      <th>ASSAULTS</th>\n      <th>OTHER CRIMES</th>\n      <th>TERRORISM</th>\n      <th>POL/MEDIA</th>\n      <th>CORRUPTION</th>\n      <th>NARCOTICS</th>\n      <th>OTHER LAWS</th>\n    </tr>\n  </thead>\n  <tbody>\n    <tr>\n      <th>0</th>\n      <td>C.I.D Headquarters</td>\n      <td>1,398</td>\n      <td>3</td>\n      <td>723</td>\n      <td>12</td>\n      <td>3</td>\n      <td>1</td>\n      <td>92</td>\n      <td>5</td>\n      <td>14</td>\n      <td>377</td>\n      <td>NaN</td>\n      <td>44</td>\n      <td>18</td>\n      <td>36</td>\n      <td>69</td>\n    </tr>\n    <tr>\n      <th>1</th>\n      <td>C.I.D</td>\n      <td>1,398</td>\n      <td>3</td>\n      <td>723</td>\n      <td>12</td>\n      <td>3</td>\n      <td>1</td>\n      <td>92</td>\n      <td>5</td>\n      <td>14</td>\n      <td>377</td>\n      <td>-</td>\n      <td>44</td>\n      <td>18</td>\n      <td>36</td>\n      <td>69</td>\n    </tr>\n    <tr>\n      <th>2</th>\n      <td>Jinja Road</td>\n      <td>1,379</td>\n      <td>12</td>\n      <td>197</td>\n      <td>110</td>\n      <td>10</td>\n      <td>75</td>\n      <td>468</td>\n      <td>76</td>\n      <td>122</td>\n      <td>272</td>\n      <td>NaN</td>\n      <td>5</td>\n      <td>NaN</td>\n      <td>30</td>\n      <td>3</td>\n    </tr>\n    <tr>\n      <th>3</th>\n      <td>Kira Division</td>\n      <td>1,341</td>\n      <td>16</td>\n      <td>125</td>\n      <td>117</td>\n      <td>20</td>\n      <td>120</td>\n      <td>401</td>\n      <td>99</td>\n      <td>73</td>\n      <td>348</td>\n      <td>NaN</td>\n      <td>10</td>\n      <td>1</td>\n      <td>10</td>\n      <td>2</td>\n    </tr>\n    <tr>\n      <th>4</th>\n      <td>Kira Road</td>\n      <td>2,284</td>\n      <td>16</td>\n      <td>160</td>\n      <td>93</td>\n      <td>122</td>\n      <td>123</td>\n      <td>677</td>\n      <td>147</td>\n      <td>274</td>\n      <td>606</td>\n      <td>1</td>\n      <td>11</td>\n      <td>NaN</td>\n      <td>51</td>\n      <td>4</td>\n    </tr>\n    <tr>\n      <th>5</th>\n      <td>Mukono</td>\n      <td>2,383</td>\n      <td>22</td>\n      <td>182</td>\n      <td>222</td>\n      <td>28</td>\n      <td>185</td>\n      <td>798</td>\n      <td>68</td>\n      <td>234</td>\n      <td>583</td>\n      <td>NaN</td>\n      <td>18</td>\n      <td>NaN</td>\n      <td>27</td>\n      <td>17</td>\n    </tr>\n    <tr>\n      <th>6</th>\n      <td>Nagalama</td>\n      <td>991</td>\n      <td>20</td>\n      <td>48</td>\n      <td>124</td>\n      <td>8</td>\n      <td>66</td>\n      <td>257</td>\n      <td>39</td>\n      <td>151</td>\n      <td>259</td>\n      <td>NaN</td>\n      <td>6</td>\n      <td>NaN</td>\n      <td>9</td>\n      <td>4</td>\n    </tr>\n    <tr>\n      <th>7</th>\n      <td>KMP EAST</td>\n      <td>8,379</td>\n      <td>85</td>\n      <td>711</td>\n      <td>666</td>\n      <td>187</td>\n      <td>569</td>\n      <td>2,601</td>\n      <td>430</td>\n      <td>853</td>\n      <td>2,068</td>\n      <td>1</td>\n      <td>50</td>\n      <td>1</td>\n      <td>126</td>\n      <td>30</td>\n    </tr>\n    <tr>\n      <th>8</th>\n      <td>CPS Kampala</td>\n      <td>1,630</td>\n      <td>7</td>\n      <td>472</td>\n      <td>12</td>\n      <td>2</td>\n      <td>41</td>\n      <td>642</td>\n      <td>40</td>\n      <td>81</td>\n      <td>219</td>\n      <td>NaN</td>\n      <td>16</td>\n      <td>1</td>\n      <td>22</td>\n      <td>75</td>\n    </tr>\n    <tr>\n      <th>9</th>\n      <td>Katwe</td>\n      <td>2,805</td>\n      <td>36</td>\n      <td>161</td>\n      <td>273</td>\n      <td>326</td>\n      <td>89</td>\n      <td>645</td>\n      <td>87</td>\n      <td>305</td>\n      <td>841</td>\n      <td>NaN</td>\n      <td>6</td>\n      <td>NaN</td>\n      <td>34</td>\n      <td>1</td>\n    </tr>\n  </tbody>\n</table>\n</div>"
          },
          "metadata": {}
        }
      ]
    },
    {
      "cell_type": "code",
      "source": "df.shape",
      "metadata": {
        "trusted": true
      },
      "execution_count": 4,
      "outputs": [
        {
          "execution_count": 4,
          "output_type": "execute_result",
          "data": {
            "text/plain": "(188, 16)"
          },
          "metadata": {}
        }
      ]
    },
    {
      "cell_type": "code",
      "source": "df.isnull()\n#checks for missing data",
      "metadata": {
        "trusted": true
      },
      "execution_count": 5,
      "outputs": [
        {
          "execution_count": 5,
          "output_type": "execute_result",
          "data": {
            "text/plain": "     REGIONS/DISTRICTS  TOTAL CASES  HOMICIDES  ECONOMIC  SEX REL  CHILD REL  \\\n0                False        False      False     False    False      False   \n1                False        False      False     False    False      False   \n2                False        False      False     False    False      False   \n3                False        False      False     False    False      False   \n4                False        False      False     False    False      False   \n..                 ...          ...        ...       ...      ...        ...   \n183              False        False      False     False    False      False   \n184              False        False      False     False    False      False   \n185              False        False      False     False    False      False   \n186              False        False      False     False    False      False   \n187              False        False      False     False    False      False   \n\n     BREAKINGS  THEFTS  ROBBERIES  ASSAULTS  OTHER CRIMES  TERRORISM  \\\n0        False   False      False     False         False       True   \n1        False   False      False     False         False      False   \n2        False   False      False     False         False       True   \n3        False   False      False     False         False       True   \n4        False   False      False     False         False      False   \n..         ...     ...        ...       ...           ...        ...   \n183      False   False      False     False         False       True   \n184      False   False      False     False         False       True   \n185      False   False      False     False         False       True   \n186      False   False      False     False         False      False   \n187      False   False      False     False         False      False   \n\n     POL/MEDIA  CORRUPTION  NARCOTICS  OTHER LAWS  \n0        False       False      False       False  \n1        False       False      False       False  \n2        False        True      False       False  \n3        False       False      False       False  \n4        False        True      False       False  \n..         ...         ...        ...         ...  \n183      False        True      False       False  \n184      False        True      False       False  \n185      False        True      False       False  \n186      False       False      False       False  \n187      False       False      False       False  \n\n[188 rows x 16 columns]",
            "text/html": "<div>\n<style scoped>\n    .dataframe tbody tr th:only-of-type {\n        vertical-align: middle;\n    }\n\n    .dataframe tbody tr th {\n        vertical-align: top;\n    }\n\n    .dataframe thead th {\n        text-align: right;\n    }\n</style>\n<table border=\"1\" class=\"dataframe\">\n  <thead>\n    <tr style=\"text-align: right;\">\n      <th></th>\n      <th>REGIONS/DISTRICTS</th>\n      <th>TOTAL CASES</th>\n      <th>HOMICIDES</th>\n      <th>ECONOMIC</th>\n      <th>SEX REL</th>\n      <th>CHILD REL</th>\n      <th>BREAKINGS</th>\n      <th>THEFTS</th>\n      <th>ROBBERIES</th>\n      <th>ASSAULTS</th>\n      <th>OTHER CRIMES</th>\n      <th>TERRORISM</th>\n      <th>POL/MEDIA</th>\n      <th>CORRUPTION</th>\n      <th>NARCOTICS</th>\n      <th>OTHER LAWS</th>\n    </tr>\n  </thead>\n  <tbody>\n    <tr>\n      <th>0</th>\n      <td>False</td>\n      <td>False</td>\n      <td>False</td>\n      <td>False</td>\n      <td>False</td>\n      <td>False</td>\n      <td>False</td>\n      <td>False</td>\n      <td>False</td>\n      <td>False</td>\n      <td>False</td>\n      <td>True</td>\n      <td>False</td>\n      <td>False</td>\n      <td>False</td>\n      <td>False</td>\n    </tr>\n    <tr>\n      <th>1</th>\n      <td>False</td>\n      <td>False</td>\n      <td>False</td>\n      <td>False</td>\n      <td>False</td>\n      <td>False</td>\n      <td>False</td>\n      <td>False</td>\n      <td>False</td>\n      <td>False</td>\n      <td>False</td>\n      <td>False</td>\n      <td>False</td>\n      <td>False</td>\n      <td>False</td>\n      <td>False</td>\n    </tr>\n    <tr>\n      <th>2</th>\n      <td>False</td>\n      <td>False</td>\n      <td>False</td>\n      <td>False</td>\n      <td>False</td>\n      <td>False</td>\n      <td>False</td>\n      <td>False</td>\n      <td>False</td>\n      <td>False</td>\n      <td>False</td>\n      <td>True</td>\n      <td>False</td>\n      <td>True</td>\n      <td>False</td>\n      <td>False</td>\n    </tr>\n    <tr>\n      <th>3</th>\n      <td>False</td>\n      <td>False</td>\n      <td>False</td>\n      <td>False</td>\n      <td>False</td>\n      <td>False</td>\n      <td>False</td>\n      <td>False</td>\n      <td>False</td>\n      <td>False</td>\n      <td>False</td>\n      <td>True</td>\n      <td>False</td>\n      <td>False</td>\n      <td>False</td>\n      <td>False</td>\n    </tr>\n    <tr>\n      <th>4</th>\n      <td>False</td>\n      <td>False</td>\n      <td>False</td>\n      <td>False</td>\n      <td>False</td>\n      <td>False</td>\n      <td>False</td>\n      <td>False</td>\n      <td>False</td>\n      <td>False</td>\n      <td>False</td>\n      <td>False</td>\n      <td>False</td>\n      <td>True</td>\n      <td>False</td>\n      <td>False</td>\n    </tr>\n    <tr>\n      <th>...</th>\n      <td>...</td>\n      <td>...</td>\n      <td>...</td>\n      <td>...</td>\n      <td>...</td>\n      <td>...</td>\n      <td>...</td>\n      <td>...</td>\n      <td>...</td>\n      <td>...</td>\n      <td>...</td>\n      <td>...</td>\n      <td>...</td>\n      <td>...</td>\n      <td>...</td>\n      <td>...</td>\n    </tr>\n    <tr>\n      <th>183</th>\n      <td>False</td>\n      <td>False</td>\n      <td>False</td>\n      <td>False</td>\n      <td>False</td>\n      <td>False</td>\n      <td>False</td>\n      <td>False</td>\n      <td>False</td>\n      <td>False</td>\n      <td>False</td>\n      <td>True</td>\n      <td>False</td>\n      <td>True</td>\n      <td>False</td>\n      <td>False</td>\n    </tr>\n    <tr>\n      <th>184</th>\n      <td>False</td>\n      <td>False</td>\n      <td>False</td>\n      <td>False</td>\n      <td>False</td>\n      <td>False</td>\n      <td>False</td>\n      <td>False</td>\n      <td>False</td>\n      <td>False</td>\n      <td>False</td>\n      <td>True</td>\n      <td>False</td>\n      <td>True</td>\n      <td>False</td>\n      <td>False</td>\n    </tr>\n    <tr>\n      <th>185</th>\n      <td>False</td>\n      <td>False</td>\n      <td>False</td>\n      <td>False</td>\n      <td>False</td>\n      <td>False</td>\n      <td>False</td>\n      <td>False</td>\n      <td>False</td>\n      <td>False</td>\n      <td>False</td>\n      <td>True</td>\n      <td>False</td>\n      <td>True</td>\n      <td>False</td>\n      <td>False</td>\n    </tr>\n    <tr>\n      <th>186</th>\n      <td>False</td>\n      <td>False</td>\n      <td>False</td>\n      <td>False</td>\n      <td>False</td>\n      <td>False</td>\n      <td>False</td>\n      <td>False</td>\n      <td>False</td>\n      <td>False</td>\n      <td>False</td>\n      <td>False</td>\n      <td>False</td>\n      <td>False</td>\n      <td>False</td>\n      <td>False</td>\n    </tr>\n    <tr>\n      <th>187</th>\n      <td>False</td>\n      <td>False</td>\n      <td>False</td>\n      <td>False</td>\n      <td>False</td>\n      <td>False</td>\n      <td>False</td>\n      <td>False</td>\n      <td>False</td>\n      <td>False</td>\n      <td>False</td>\n      <td>False</td>\n      <td>False</td>\n      <td>False</td>\n      <td>False</td>\n      <td>False</td>\n    </tr>\n  </tbody>\n</table>\n<p>188 rows × 16 columns</p>\n</div>"
          },
          "metadata": {}
        }
      ]
    },
    {
      "cell_type": "code",
      "source": "df.isnull().sum()\n#counts the number of missing values",
      "metadata": {
        "trusted": true
      },
      "execution_count": 6,
      "outputs": [
        {
          "execution_count": 6,
          "output_type": "execute_result",
          "data": {
            "text/plain": "REGIONS/DISTRICTS      0\nTOTAL CASES            0\nHOMICIDES              0\nECONOMIC               0\nSEX REL                0\nCHILD REL              0\nBREAKINGS              0\nTHEFTS                 0\nROBBERIES              0\nASSAULTS               0\nOTHER CRIMES           0\nTERRORISM            156\nPOL/MEDIA              0\nCORRUPTION           145\nNARCOTICS              0\nOTHER LAWS             0\ndtype: int64"
          },
          "metadata": {}
        }
      ]
    },
    {
      "cell_type": "code",
      "source": "df.isnull().sum().sum()\n#gets the total number of missing values in the dataset",
      "metadata": {
        "trusted": true
      },
      "execution_count": 7,
      "outputs": [
        {
          "execution_count": 7,
          "output_type": "execute_result",
          "data": {
            "text/plain": "301"
          },
          "metadata": {}
        }
      ]
    },
    {
      "cell_type": "code",
      "source": "",
      "metadata": {},
      "execution_count": null,
      "outputs": []
    },
    {
      "cell_type": "code",
      "source": "\n",
      "metadata": {
        "trusted": true
      },
      "execution_count": 11,
      "outputs": []
    },
    {
      "cell_type": "code",
      "source": "",
      "metadata": {},
      "execution_count": null,
      "outputs": []
    }
  ]
}